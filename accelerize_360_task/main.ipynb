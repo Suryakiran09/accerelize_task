{
 "cells": [
  {
   "cell_type": "code",
   "execution_count": 36,
   "metadata": {},
   "outputs": [],
   "source": [
    "# Import necessary libraries\n",
    "import pandas as pd"
   ]
  },
  {
   "cell_type": "code",
   "execution_count": 25,
   "metadata": {},
   "outputs": [],
   "source": [
    "# Load the NYC Taxi Trip Duration dataset\n",
    "df = pd.read_csv(\"train.csv\")"
   ]
  },
  {
   "cell_type": "code",
   "execution_count": 26,
   "metadata": {},
   "outputs": [
    {
     "data": {
      "text/html": [
       "<div>\n",
       "<style scoped>\n",
       "    .dataframe tbody tr th:only-of-type {\n",
       "        vertical-align: middle;\n",
       "    }\n",
       "\n",
       "    .dataframe tbody tr th {\n",
       "        vertical-align: top;\n",
       "    }\n",
       "\n",
       "    .dataframe thead th {\n",
       "        text-align: right;\n",
       "    }\n",
       "</style>\n",
       "<table border=\"1\" class=\"dataframe\">\n",
       "  <thead>\n",
       "    <tr style=\"text-align: right;\">\n",
       "      <th></th>\n",
       "      <th>id</th>\n",
       "      <th>vendor_id</th>\n",
       "      <th>pickup_datetime</th>\n",
       "      <th>dropoff_datetime</th>\n",
       "      <th>passenger_count</th>\n",
       "      <th>pickup_longitude</th>\n",
       "      <th>pickup_latitude</th>\n",
       "      <th>dropoff_longitude</th>\n",
       "      <th>dropoff_latitude</th>\n",
       "      <th>store_and_fwd_flag</th>\n",
       "      <th>trip_duration</th>\n",
       "    </tr>\n",
       "  </thead>\n",
       "  <tbody>\n",
       "    <tr>\n",
       "      <th>0</th>\n",
       "      <td>id2875421</td>\n",
       "      <td>2</td>\n",
       "      <td>2016-03-14 17:24:55</td>\n",
       "      <td>2016-03-14 17:32:30</td>\n",
       "      <td>1</td>\n",
       "      <td>-73.982155</td>\n",
       "      <td>40.767937</td>\n",
       "      <td>-73.964630</td>\n",
       "      <td>40.765602</td>\n",
       "      <td>N</td>\n",
       "      <td>455</td>\n",
       "    </tr>\n",
       "    <tr>\n",
       "      <th>1</th>\n",
       "      <td>id2377394</td>\n",
       "      <td>1</td>\n",
       "      <td>2016-06-12 00:43:35</td>\n",
       "      <td>2016-06-12 00:54:38</td>\n",
       "      <td>1</td>\n",
       "      <td>-73.980415</td>\n",
       "      <td>40.738564</td>\n",
       "      <td>-73.999481</td>\n",
       "      <td>40.731152</td>\n",
       "      <td>N</td>\n",
       "      <td>663</td>\n",
       "    </tr>\n",
       "    <tr>\n",
       "      <th>2</th>\n",
       "      <td>id3858529</td>\n",
       "      <td>2</td>\n",
       "      <td>2016-01-19 11:35:24</td>\n",
       "      <td>2016-01-19 12:10:48</td>\n",
       "      <td>1</td>\n",
       "      <td>-73.979027</td>\n",
       "      <td>40.763939</td>\n",
       "      <td>-74.005333</td>\n",
       "      <td>40.710087</td>\n",
       "      <td>N</td>\n",
       "      <td>2124</td>\n",
       "    </tr>\n",
       "    <tr>\n",
       "      <th>3</th>\n",
       "      <td>id3504673</td>\n",
       "      <td>2</td>\n",
       "      <td>2016-04-06 19:32:31</td>\n",
       "      <td>2016-04-06 19:39:40</td>\n",
       "      <td>1</td>\n",
       "      <td>-74.010040</td>\n",
       "      <td>40.719971</td>\n",
       "      <td>-74.012268</td>\n",
       "      <td>40.706718</td>\n",
       "      <td>N</td>\n",
       "      <td>429</td>\n",
       "    </tr>\n",
       "    <tr>\n",
       "      <th>4</th>\n",
       "      <td>id2181028</td>\n",
       "      <td>2</td>\n",
       "      <td>2016-03-26 13:30:55</td>\n",
       "      <td>2016-03-26 13:38:10</td>\n",
       "      <td>1</td>\n",
       "      <td>-73.973053</td>\n",
       "      <td>40.793209</td>\n",
       "      <td>-73.972923</td>\n",
       "      <td>40.782520</td>\n",
       "      <td>N</td>\n",
       "      <td>435</td>\n",
       "    </tr>\n",
       "  </tbody>\n",
       "</table>\n",
       "</div>"
      ],
      "text/plain": [
       "          id  vendor_id      pickup_datetime     dropoff_datetime  \\\n",
       "0  id2875421          2  2016-03-14 17:24:55  2016-03-14 17:32:30   \n",
       "1  id2377394          1  2016-06-12 00:43:35  2016-06-12 00:54:38   \n",
       "2  id3858529          2  2016-01-19 11:35:24  2016-01-19 12:10:48   \n",
       "3  id3504673          2  2016-04-06 19:32:31  2016-04-06 19:39:40   \n",
       "4  id2181028          2  2016-03-26 13:30:55  2016-03-26 13:38:10   \n",
       "\n",
       "   passenger_count  pickup_longitude  pickup_latitude  dropoff_longitude  \\\n",
       "0                1        -73.982155        40.767937         -73.964630   \n",
       "1                1        -73.980415        40.738564         -73.999481   \n",
       "2                1        -73.979027        40.763939         -74.005333   \n",
       "3                1        -74.010040        40.719971         -74.012268   \n",
       "4                1        -73.973053        40.793209         -73.972923   \n",
       "\n",
       "   dropoff_latitude store_and_fwd_flag  trip_duration  \n",
       "0         40.765602                  N            455  \n",
       "1         40.731152                  N            663  \n",
       "2         40.710087                  N           2124  \n",
       "3         40.706718                  N            429  \n",
       "4         40.782520                  N            435  "
      ]
     },
     "execution_count": 26,
     "metadata": {},
     "output_type": "execute_result"
    }
   ],
   "source": [
    "df.head(5)"
   ]
  },
  {
   "cell_type": "code",
   "execution_count": 27,
   "metadata": {},
   "outputs": [
    {
     "name": "stdout",
     "output_type": "stream",
     "text": [
      "Column Names: ['id', 'vendor_id', 'pickup_datetime', 'dropoff_datetime', 'passenger_count', 'pickup_longitude', 'pickup_latitude', 'dropoff_longitude', 'dropoff_latitude', 'store_and_fwd_flag', 'trip_duration']\n"
     ]
    }
   ],
   "source": [
    "# Get column names\n",
    "column_names = df.columns.tolist()\n",
    "print(\"Column Names:\", column_names)"
   ]
  },
  {
   "cell_type": "code",
   "execution_count": 28,
   "metadata": {},
   "outputs": [
    {
     "name": "stdout",
     "output_type": "stream",
     "text": [
      "Total Rows: 1458644\n",
      "Total Columns: 11\n"
     ]
    }
   ],
   "source": [
    "# Count total rows and columns\n",
    "total_rows, total_columns = df.shape\n",
    "print(f\"Total Rows: {total_rows}\")\n",
    "print(f\"Total Columns: {total_columns}\")"
   ]
  },
  {
   "cell_type": "code",
   "execution_count": 29,
   "metadata": {},
   "outputs": [
    {
     "name": "stdout",
     "output_type": "stream",
     "text": [
      "Value Counts for 'vendor_id' column:\n",
      "2    780302\n",
      "1    678342\n",
      "Name: vendor_id, dtype: int64\n"
     ]
    }
   ],
   "source": [
    "# Display value counts for the 'vendor_id' column\n",
    "vendor_counts = df['vendor_id'].value_counts()\n",
    "\n",
    "# Print the result\n",
    "print(\"Value Counts for 'vendor_id' column:\")\n",
    "print(vendor_counts)"
   ]
  },
  {
   "cell_type": "code",
   "execution_count": 43,
   "metadata": {},
   "outputs": [
    {
     "name": "stdout",
     "output_type": "stream",
     "text": [
      "Unique Passenger Counts:\n",
      "[1 6 4 2 3 5 0 7 9 8]\n"
     ]
    }
   ],
   "source": [
    "# Get unique passenger counts\n",
    "unique_passenger_counts = df['passenger_count'].unique()\n",
    "\n",
    "# Display the result\n",
    "print(\"Unique Passenger Counts:\")\n",
    "print(unique_passenger_counts)"
   ]
  },
  {
   "cell_type": "code",
   "execution_count": 42,
   "metadata": {},
   "outputs": [
    {
     "name": "stdout",
     "output_type": "stream",
     "text": [
      "Unique Passenger Counts for Each Vendor:\n",
      "vendor_id\n",
      "1     7\n",
      "2    10\n",
      "Name: passenger_count, dtype: int64\n"
     ]
    }
   ],
   "source": [
    "unique_passenger_counts = df.groupby('vendor_id')['passenger_count'].nunique()\n",
    "\n",
    "# Display the result\n",
    "print(\"Unique Passenger Counts for Each Vendor:\")\n",
    "print(unique_passenger_counts)"
   ]
  },
  {
   "cell_type": "code",
   "execution_count": 30,
   "metadata": {},
   "outputs": [
    {
     "name": "stdout",
     "output_type": "stream",
     "text": [
      "<class 'pandas.core.frame.DataFrame'>\n",
      "RangeIndex: 1458644 entries, 0 to 1458643\n",
      "Data columns (total 11 columns):\n",
      " #   Column              Non-Null Count    Dtype  \n",
      "---  ------              --------------    -----  \n",
      " 0   id                  1458644 non-null  object \n",
      " 1   vendor_id           1458644 non-null  int64  \n",
      " 2   pickup_datetime     1458644 non-null  object \n",
      " 3   dropoff_datetime    1458644 non-null  object \n",
      " 4   passenger_count     1458644 non-null  int64  \n",
      " 5   pickup_longitude    1458644 non-null  float64\n",
      " 6   pickup_latitude     1458644 non-null  float64\n",
      " 7   dropoff_longitude   1458644 non-null  float64\n",
      " 8   dropoff_latitude    1458644 non-null  float64\n",
      " 9   store_and_fwd_flag  1458644 non-null  object \n",
      " 10  trip_duration       1458644 non-null  int64  \n",
      "dtypes: float64(4), int64(3), object(4)\n",
      "memory usage: 122.4+ MB\n",
      "\n",
      "Additional Information about the Dataset:\n",
      "None\n"
     ]
    }
   ],
   "source": [
    "# Additional information about the dataset\n",
    "info = df.info()\n",
    "\n",
    "# Display additional information\n",
    "print(\"\\nAdditional Information about the Dataset:\")\n",
    "print(info)\n"
   ]
  },
  {
   "cell_type": "code",
   "execution_count": 31,
   "metadata": {},
   "outputs": [
    {
     "name": "stdout",
     "output_type": "stream",
     "text": [
      "Summary of the Dataset:\n",
      "          vendor_id  passenger_count  pickup_longitude  pickup_latitude  \\\n",
      "count  1.458644e+06     1.458644e+06      1.458644e+06     1.458644e+06   \n",
      "mean   1.534950e+00     1.664530e+00     -7.397349e+01     4.075092e+01   \n",
      "std    4.987772e-01     1.314242e+00      7.090186e-02     3.288119e-02   \n",
      "min    1.000000e+00     0.000000e+00     -1.219333e+02     3.435970e+01   \n",
      "25%    1.000000e+00     1.000000e+00     -7.399187e+01     4.073735e+01   \n",
      "50%    2.000000e+00     1.000000e+00     -7.398174e+01     4.075410e+01   \n",
      "75%    2.000000e+00     2.000000e+00     -7.396733e+01     4.076836e+01   \n",
      "max    2.000000e+00     9.000000e+00     -6.133553e+01     5.188108e+01   \n",
      "\n",
      "       dropoff_longitude  dropoff_latitude  trip_duration  \n",
      "count       1.458644e+06      1.458644e+06   1.458644e+06  \n",
      "mean       -7.397342e+01      4.075180e+01   9.594923e+02  \n",
      "std         7.064327e-02      3.589056e-02   5.237432e+03  \n",
      "min        -1.219333e+02      3.218114e+01   1.000000e+00  \n",
      "25%        -7.399133e+01      4.073588e+01   3.970000e+02  \n",
      "50%        -7.397975e+01      4.075452e+01   6.620000e+02  \n",
      "75%        -7.396301e+01      4.076981e+01   1.075000e+03  \n",
      "max        -6.133553e+01      4.392103e+01   3.526282e+06  \n"
     ]
    }
   ],
   "source": [
    "# Summary of the dataset\n",
    "summary = df.describe()\n",
    "\n",
    "# Display the summary\n",
    "print(\"Summary of the Dataset:\")\n",
    "print(summary)"
   ]
  },
  {
   "cell_type": "code",
   "execution_count": 32,
   "metadata": {},
   "outputs": [
    {
     "name": "stdout",
     "output_type": "stream",
     "text": [
      "Count of Remaining Rows after Removing Duplicates: 1458644\n"
     ]
    }
   ],
   "source": [
    "# Display the count of the remaining rows\n",
    "rows_count_before_duplicates = df.shape[0]\n",
    "print(\"Count of Remaining Rows after Removing Duplicates:\", rows_count_before_duplicates)"
   ]
  },
  {
   "cell_type": "code",
   "execution_count": 33,
   "metadata": {},
   "outputs": [
    {
     "name": "stdout",
     "output_type": "stream",
     "text": [
      "Count of Remaining Rows after Removing Duplicates: 1458644\n"
     ]
    }
   ],
   "source": [
    "df = df.drop_duplicates()\n",
    "\n",
    "remaining_rows_count = df.shape[0]\n",
    "print(\"Count of Remaining Rows after Removing Duplicates:\", remaining_rows_count)"
   ]
  },
  {
   "cell_type": "code",
   "execution_count": 34,
   "metadata": {},
   "outputs": [
    {
     "name": "stdout",
     "output_type": "stream",
     "text": [
      "After removing null values\n",
      "1458644\n"
     ]
    }
   ],
   "source": [
    "# Remove null values\n",
    "df = df.dropna()\n",
    "\n",
    "# Display the shape of the cleaned dataset\n",
    "print(\"After removing null values\")\n",
    "print(df.shape[0])"
   ]
  },
  {
   "cell_type": "code",
   "execution_count": 35,
   "metadata": {},
   "outputs": [
    {
     "name": "stderr",
     "output_type": "stream",
     "text": [
      "C:\\Users\\surya\\AppData\\Local\\Temp\\ipykernel_13696\\1134722465.py:1: FutureWarning: The default value of numeric_only in DataFrame.corr is deprecated. In a future version, it will default to False. Select only valid columns or specify the value of numeric_only to silence this warning.\n",
      "  df.corr()\n"
     ]
    },
    {
     "data": {
      "text/html": [
       "<div>\n",
       "<style scoped>\n",
       "    .dataframe tbody tr th:only-of-type {\n",
       "        vertical-align: middle;\n",
       "    }\n",
       "\n",
       "    .dataframe tbody tr th {\n",
       "        vertical-align: top;\n",
       "    }\n",
       "\n",
       "    .dataframe thead th {\n",
       "        text-align: right;\n",
       "    }\n",
       "</style>\n",
       "<table border=\"1\" class=\"dataframe\">\n",
       "  <thead>\n",
       "    <tr style=\"text-align: right;\">\n",
       "      <th></th>\n",
       "      <th>vendor_id</th>\n",
       "      <th>passenger_count</th>\n",
       "      <th>pickup_longitude</th>\n",
       "      <th>pickup_latitude</th>\n",
       "      <th>dropoff_longitude</th>\n",
       "      <th>dropoff_latitude</th>\n",
       "      <th>trip_duration</th>\n",
       "    </tr>\n",
       "  </thead>\n",
       "  <tbody>\n",
       "    <tr>\n",
       "      <th>vendor_id</th>\n",
       "      <td>1.000000</td>\n",
       "      <td>0.287415</td>\n",
       "      <td>0.007820</td>\n",
       "      <td>0.001742</td>\n",
       "      <td>0.001528</td>\n",
       "      <td>0.004496</td>\n",
       "      <td>0.020304</td>\n",
       "    </tr>\n",
       "    <tr>\n",
       "      <th>passenger_count</th>\n",
       "      <td>0.287415</td>\n",
       "      <td>1.000000</td>\n",
       "      <td>0.002169</td>\n",
       "      <td>-0.005125</td>\n",
       "      <td>-0.000343</td>\n",
       "      <td>-0.002762</td>\n",
       "      <td>0.008471</td>\n",
       "    </tr>\n",
       "    <tr>\n",
       "      <th>pickup_longitude</th>\n",
       "      <td>0.007820</td>\n",
       "      <td>0.002169</td>\n",
       "      <td>1.000000</td>\n",
       "      <td>0.022568</td>\n",
       "      <td>0.783582</td>\n",
       "      <td>0.100190</td>\n",
       "      <td>0.026542</td>\n",
       "    </tr>\n",
       "    <tr>\n",
       "      <th>pickup_latitude</th>\n",
       "      <td>0.001742</td>\n",
       "      <td>-0.005125</td>\n",
       "      <td>0.022568</td>\n",
       "      <td>1.000000</td>\n",
       "      <td>0.114884</td>\n",
       "      <td>0.494038</td>\n",
       "      <td>-0.029204</td>\n",
       "    </tr>\n",
       "    <tr>\n",
       "      <th>dropoff_longitude</th>\n",
       "      <td>0.001528</td>\n",
       "      <td>-0.000343</td>\n",
       "      <td>0.783582</td>\n",
       "      <td>0.114884</td>\n",
       "      <td>1.000000</td>\n",
       "      <td>0.124873</td>\n",
       "      <td>0.014678</td>\n",
       "    </tr>\n",
       "    <tr>\n",
       "      <th>dropoff_latitude</th>\n",
       "      <td>0.004496</td>\n",
       "      <td>-0.002762</td>\n",
       "      <td>0.100190</td>\n",
       "      <td>0.494038</td>\n",
       "      <td>0.124873</td>\n",
       "      <td>1.000000</td>\n",
       "      <td>-0.020677</td>\n",
       "    </tr>\n",
       "    <tr>\n",
       "      <th>trip_duration</th>\n",
       "      <td>0.020304</td>\n",
       "      <td>0.008471</td>\n",
       "      <td>0.026542</td>\n",
       "      <td>-0.029204</td>\n",
       "      <td>0.014678</td>\n",
       "      <td>-0.020677</td>\n",
       "      <td>1.000000</td>\n",
       "    </tr>\n",
       "  </tbody>\n",
       "</table>\n",
       "</div>"
      ],
      "text/plain": [
       "                   vendor_id  passenger_count  pickup_longitude  \\\n",
       "vendor_id           1.000000         0.287415          0.007820   \n",
       "passenger_count     0.287415         1.000000          0.002169   \n",
       "pickup_longitude    0.007820         0.002169          1.000000   \n",
       "pickup_latitude     0.001742        -0.005125          0.022568   \n",
       "dropoff_longitude   0.001528        -0.000343          0.783582   \n",
       "dropoff_latitude    0.004496        -0.002762          0.100190   \n",
       "trip_duration       0.020304         0.008471          0.026542   \n",
       "\n",
       "                   pickup_latitude  dropoff_longitude  dropoff_latitude  \\\n",
       "vendor_id                 0.001742           0.001528          0.004496   \n",
       "passenger_count          -0.005125          -0.000343         -0.002762   \n",
       "pickup_longitude          0.022568           0.783582          0.100190   \n",
       "pickup_latitude           1.000000           0.114884          0.494038   \n",
       "dropoff_longitude         0.114884           1.000000          0.124873   \n",
       "dropoff_latitude          0.494038           0.124873          1.000000   \n",
       "trip_duration            -0.029204           0.014678         -0.020677   \n",
       "\n",
       "                   trip_duration  \n",
       "vendor_id               0.020304  \n",
       "passenger_count         0.008471  \n",
       "pickup_longitude        0.026542  \n",
       "pickup_latitude        -0.029204  \n",
       "dropoff_longitude       0.014678  \n",
       "dropoff_latitude       -0.020677  \n",
       "trip_duration           1.000000  "
      ]
     },
     "execution_count": 35,
     "metadata": {},
     "output_type": "execute_result"
    }
   ],
   "source": [
    "df.corr()"
   ]
  },
  {
   "cell_type": "code",
   "execution_count": 55,
   "metadata": {},
   "outputs": [
    {
     "name": "stdout",
     "output_type": "stream",
     "text": [
      "Average Pickup Time for Each Vendor:\n",
      "           pickup_hour  pickup_minute  pickup_second\n",
      "vendor_id                                           \n",
      "1            13.542660      29.597367      29.453466\n",
      "2            13.661968      29.583891      29.491086\n",
      "\n",
      "Average Drop-off Time for Each Vendor:\n",
      "           dropoff_hour  dropoff_minute  dropoff_second\n",
      "vendor_id                                              \n",
      "1             13.534577       29.632917       29.504427\n",
      "2             13.654822       29.624522       29.514510\n"
     ]
    }
   ],
   "source": [
    "# Convert pickup_datetime and dropoff_datetime to datetime objects\n",
    "df['pickup_datetime'] = pd.to_datetime(df['pickup_datetime'])\n",
    "df['dropoff_datetime'] = pd.to_datetime(df['dropoff_datetime'])\n",
    "\n",
    "# Extract hour, minute, and second components for pickup and drop-off\n",
    "df['pickup_hour'] = df['pickup_datetime'].dt.hour\n",
    "df['pickup_minute'] = df['pickup_datetime'].dt.minute\n",
    "df['pickup_second'] = df['pickup_datetime'].dt.second\n",
    "\n",
    "df['dropoff_hour'] = df['dropoff_datetime'].dt.hour\n",
    "df['dropoff_minute'] = df['dropoff_datetime'].dt.minute\n",
    "df['dropoff_second'] = df['dropoff_datetime'].dt.second\n",
    "\n",
    "# Calculate average pickup and drop-off time for each vendor\n",
    "average_pickup_time = df.groupby('vendor_id')[['pickup_hour', 'pickup_minute', 'pickup_second']].mean()\n",
    "average_dropoff_time = df.groupby('vendor_id')[['dropoff_hour', 'dropoff_minute', 'dropoff_second']].mean()\n",
    "\n",
    "# Display the result\n",
    "print(\"Average Pickup Time for Each Vendor:\")\n",
    "print(average_pickup_time)\n",
    "\n",
    "print(\"\\nAverage Drop-off Time for Each Vendor:\")\n",
    "print(average_dropoff_time)"
   ]
  },
  {
   "cell_type": "markdown",
   "metadata": {},
   "source": [
    "Visualizations"
   ]
  },
  {
   "cell_type": "code",
   "execution_count": 50,
   "metadata": {},
   "outputs": [],
   "source": [
    "import matplotlib.pyplot as plt\n",
    "import seaborn as sns"
   ]
  },
  {
   "cell_type": "markdown",
   "metadata": {},
   "source": [
    "Graph 1: Bar Chart for Passenger Counts"
   ]
  },
  {
   "cell_type": "code",
   "execution_count": 45,
   "metadata": {},
   "outputs": [
    {
     "data": {
      "image/png": "[encoded data removed]",
      "text/plain": [
       "<Figure size 800x500 with 1 Axes>"
      ]
     },
     "metadata": {},
     "output_type": "display_data"
    }
   ],
   "source": [
    "passenger_counts = df['passenger_count'].value_counts().sort_index()\n",
    "\n",
    "plt.figure(figsize=(8, 5))\n",
    "bars = plt.bar(passenger_counts.index, passenger_counts.values, color='orange', alpha=0.7)\n",
    "\n",
    "# Add annotations on top of each bar\n",
    "for bar in bars:\n",
    "    yval = bar.get_height()\n",
    "    plt.text(bar.get_x() + bar.get_width()/2, yval, round(yval, 1), ha='center', va='bottom')\n",
    "\n",
    "plt.title('Distribution of Passenger Counts')\n",
    "plt.xlabel('Number of Passengers')\n",
    "plt.ylabel('Count')\n",
    "plt.xticks(rotation=0)\n",
    "plt.grid(axis='y')\n",
    "plt.show()"
   ]
  },
  {
   "cell_type": "markdown",
   "metadata": {},
   "source": [
    "Graph 2 : Group by vendor_id and calculate total duration for each vendor in hours"
   ]
  },
  {
   "cell_type": "code",
   "execution_count": 44,
   "metadata": {},
   "outputs": [
    {
     "data": {
      "image/png": "[encoded data removed]",
      "text/plain": [
       "<Figure size 800x500 with 1 Axes>"
      ]
     },
     "metadata": {},
     "output_type": "display_data"
    }
   ],
   "source": [
    "total_duration_per_vendor_hours = df.groupby('vendor_id')['trip_duration'].sum() / 3600  # Convert seconds to hours\n",
    "\n",
    "# Bar Chart for Total Duration per Vendor in Hours\n",
    "plt.figure(figsize=(8, 5))\n",
    "total_duration_per_vendor_hours.plot(kind='bar', color='skyblue', alpha=0.7)\n",
    "plt.title('Total Duration for Each Vendor (in Hours)')\n",
    "plt.xlabel('Vendor ID')\n",
    "plt.ylabel('Total Duration (hours)')\n",
    "plt.xticks(rotation=0)\n",
    "plt.grid(axis='y')\n",
    "plt.show()"
   ]
  },
  {
   "cell_type": "markdown",
   "metadata": {},
   "source": [
    "Graph 3 : Find the location with the maximum calls for each vendor"
   ]
  },
  {
   "cell_type": "code",
   "execution_count": 48,
   "metadata": {},
   "outputs": [
    {
     "data": {
      "image/png": "[encoded data removed]",
      "text/plain": [
       "<Figure size 1200x800 with 1 Axes>"
      ]
     },
     "metadata": {},
     "output_type": "display_data"
    }
   ],
   "source": [
    "vendor_location_counts = df.groupby(['vendor_id', 'pickup_longitude', 'pickup_latitude']).size().reset_index(name='call_count')\n",
    "# Find the location with the maximum calls for each vendor\n",
    "max_call_locations = vendor_location_counts.loc[vendor_location_counts.groupby('vendor_id')['call_count'].idxmax()]\n",
    "\n",
    "plt.figure(figsize=(12, 8))\n",
    "sns.scatterplot(data=max_call_locations, x='pickup_longitude', y='pickup_latitude', hue='vendor_id', size='call_count', sizes=(50, 200), palette='viridis', alpha=0.7)\n",
    "\n",
    "# Annotate each point with the count\n",
    "for index, row in max_call_locations.iterrows():\n",
    "    plt.annotate(row['call_count'], (row['pickup_longitude'], row['pickup_latitude']), textcoords=\"offset points\", xytext=(0,10), ha='center')\n",
    "\n",
    "plt.title('Location with Maximum Calls for Each Vendor')\n",
    "plt.xlabel('Pickup Longitude')\n",
    "plt.ylabel('Pickup Latitude')\n",
    "plt.legend(title='Vendor ID', loc='upper right')\n",
    "plt.show()"
   ]
  }
 ],
 "metadata": {
  "kernelspec": {
   "display_name": "Python 3",
   "language": "python",
   "name": "python3"
  },
  "language_info": {
   "codemirror_mode": {
    "name": "ipython",
    "version": 3
   },
   "file_extension": ".py",
   "mimetype": "text/x-python",
   "name": "python",
   "nbconvert_exporter": "python",
   "pygments_lexer": "ipython3",
   "version": "3.11.0"
  }
 },
 "nbformat": 4,
 "nbformat_minor": 2
}
